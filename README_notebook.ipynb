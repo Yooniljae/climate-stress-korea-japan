{
 "cells": [
  {
   "cell_type": "markdown",
   "id": "3c308dc6",
   "metadata": {},
   "source": [
    "### Reproducibility Package for:\n",
    "Quantitative Analysis of Climate Stress and Settlement Responses in the Korean Peninsula and Southern Japan (6000–2100 BP)\n",
    "\n",
    "Author: Iljae Yoon  \n",
    "Zenodo DOI: https://doi.org/TBD \n",
    "Submission: The Holocene (2025, under review)\n",
    "\n",
    "This repository contains all data, code, and outputs necessary to reproduce the analyses and figures presented in the manuscript.\n",
    "\n",
    "---\n",
    "\n",
    "### Contact\n",
    "\n",
    "For any questions or issues regarding this package, please contact:  \n",
    "📧 iljae.yoon.research@gmail.com\n"
   ]
  },
  {
   "cell_type": "markdown",
   "id": "e03e5047",
   "metadata": {},
   "source": [
    "## Folder Structure\n",
    "\n",
    "```\n",
    "Quantitative_Analysis_of_Climate_Stress_and_Settlement_Responses/\n",
    "├── analysis_cs.ipynb           # Main executable notebook\n",
    "├── analysis_cs.py              # Equivalent script version (optional)\n",
    "├── README_notebook.ipynb       # Narrative version of this README\n",
    "├── README.txt                  # Plain-text version\n",
    "├── README.md                   # Markdown version (this file)\n",
    "├── requirements.txt            # Python 3.10 environment specification\n",
    "│\n",
    "├── data/\n",
    "│   ├── raw/                    # Raw input files (SPD & climate data)\n",
    "│   └── processed/              # Preprocessed Z-scores and binned data\n",
    "│\n",
    "├── output/                     # All generated outputs\n",
    "│   ├── figures/                # Figures 1–4 and Supplementary Figures S1–S12\n",
    "│   └── tables/                 # All tables used in manuscript (.csv)\n",
    "```"
   ]
  },
  {
   "cell_type": "markdown",
   "id": "5c16ed47",
   "metadata": {},
   "source": [
    "### Environment Setup\n",
    "\n",
    "Python version: **3.10**\n",
    "\n",
    "Install required packages with:\n",
    "Key packages used:  \n",
    "`pandas`, `numpy`, `scipy`, `statsmodels`, `matplotlib`, `scikit-learn`\n",
    "\n",
    "---\n",
    "\n",
    "### Data Description\n",
    "\n",
    "- **Climate proxies**: Marine proxy–based reconstructions (Marcott et al., 2013)  \n",
    "- **Radiocarbon data**:  \n",
    "  - Korea: AMS 14C dates (Seoul National University)  \n",
    "  - Japan: National Museum of Japanese History  \n",
    "- **Settlement proxy**: SPD_Z (normalized, smoothed time series)\n",
    "\n",
    "---\n",
    "\n",
    "### How to Reproduce\n",
    "\n",
    "There are two options:\n",
    "\n",
    "### Option 1: Notebook-based execution  \n",
    "Open `analysis_cs.ipynb` and run all cells sequentially.\n",
    "\n",
    "### Option 2: Script-based execution  \n",
    "Run `analysis_cs.py` via terminal or IDE:\n",
    "\n",
    "### Output Includes:\n",
    "\n",
    "- Residual-based climate stress Z-scores  \n",
    "- Normalized SPD_Z time series for Korea and Japan  \n",
    "- Statistical analysis results (correlation, lag, Granger tests)  \n",
    "- Reproducible figures (Figures 1–4 and S1–S12)  \n",
    "- Excel tables with summary statistics and test results  \n",
    "\n",
    "All outputs are saved in:  \n",
    "- `output/figures/`  \n",
    "- `output/tables/`\n",
    "\n",
    "---\n",
    "\n",
    "### Notes\n",
    "\n",
    "- Random seeds (e.g., `seed=42`) are fixed to ensure reproducibility.  \n",
    "- SPD is binned at 20-year intervals; climate proxies use 60–100-year resolution.  \n",
    "- This package reproduces all results reported in the manuscript submitted to *The Holocene*.  \n"
   ]
  }
 ],
 "metadata": {
  "kernelspec": {
   "display_name": "gdd_env",
   "language": "python",
   "name": "gdd_env"
  },
  "language_info": {
   "codemirror_mode": {
    "name": "ipython",
    "version": 3
   },
   "file_extension": ".py",
   "mimetype": "text/x-python",
   "name": "python",
   "nbconvert_exporter": "python",
   "pygments_lexer": "ipython3",
   "version": "3.11.5"
  }
 },
 "nbformat": 4,
 "nbformat_minor": 5
}
