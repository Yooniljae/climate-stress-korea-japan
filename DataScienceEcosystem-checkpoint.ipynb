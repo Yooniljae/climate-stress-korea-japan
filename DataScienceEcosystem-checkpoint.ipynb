{
 "cells": [
  {
   "cell_type": "code",
   "execution_count": null,
   "id": "fbaafea5",
   "metadata": {},
   "outputs": [],
   "source": [
    "# Data Science Tools and Ecosystem\n",
    "In this notebook, Data Science Tools and Ecosystem are summarized.\n",
    "\n",
    "**Objectives:**\n",
    "\n",
    "- List popular languages for Data Science\n",
    "- List commonly used libraries in Data Science\n",
    "- Create tables using markdown\n",
    "- Evaluate arithmetic expressions\n",
    "- Share notebooks via GitHub\n",
    "\n",
    "Some of the popular languages that Data Scientists use are:\n",
    "\n",
    "1. Python  \n",
    "2. R  \n",
    "3. SQL  \n",
    "\n",
    "Some of the commonly used libraries used by Data Scientists include:\n",
    "\n",
    "Pandas\n",
    "\n",
    "NumPy\n",
    "\n",
    "Scikit-learn\n",
    "\n",
    "\n",
    "| Data Science Tools      |\n",
    "|-------------------------|\n",
    "| Jupyter Notebook        |\n",
    "| RStudio                 |\n",
    "| Apache Zeppelin         |\n",
    "\n",
    "*Below are a few examples of evaluating arithmetic expressions in Python.\n",
    "# This a simple arithmetic expression to multiply then add integers\n",
    "(3 * 4) + 5\n",
    "# Output: 17\n",
    "\n",
    "# This will convert 200 minutes to hours by dividing by 60\n",
    "200 / 60\n",
    "# Output: 3.3333333333333335\n",
    "\n",
    "**Objectives:**\n",
    "\n",
    "- List popular languages for Data Science\n",
    "- List commonly used libraries in Data Science\n",
    "- Create tables using markdown\n",
    "- Evaluate arithmetic expressions\n",
    "- Share notebooks via GitHub\n",
    "\n",
    "## Author  \n",
    "Yoon Iljae\n",
    "\n"
   ]
  }
 ],
 "metadata": {
  "kernelspec": {
   "display_name": "Python 3 (ipykernel)",
   "language": "python",
   "name": "python3"
  },
  "language_info": {
   "codemirror_mode": {
    "name": "ipython",
    "version": 3
   },
   "file_extension": ".py",
   "mimetype": "text/x-python",
   "name": "python",
   "nbconvert_exporter": "python",
   "pygments_lexer": "ipython3",
   "version": "3.11.5"
  }
 },
 "nbformat": 4,
 "nbformat_minor": 5
}
